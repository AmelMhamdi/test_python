{
 "cells": [
  {
   "cell_type": "code",
   "execution_count": null,
   "metadata": {},
   "outputs": [],
   "source": [
    "import numpy as np\n",
    "import cv2\n",
    "import math\n",
    "import matplotlib.pyplot as plt\n",
    "%matplotlib inline\n"
   ]
  },
  {
   "cell_type": "code",
   "execution_count": null,
   "metadata": {},
   "outputs": [],
   "source": [
    "print('ok1')"
   ]
  },
  {
   "cell_type": "code",
   "execution_count": null,
   "metadata": {},
   "outputs": [],
   "source": [
    "lines_are_white=True,\n",
    "value_threshold=5\n",
    "imgpath = '001109.png'\n",
    "img = cv2.imread(imgpath)\n",
    "if img.ndim == 3:\n",
    "    img = cv2.cvtColor(img, cv2.COLOR_RGB2GRAY)\n",
    "# Création du Rho and Theta ranges\n",
    "theta_range = np.arange(-90, 90, 1)\n",
    "thetas = np.deg2rad(theta_range)\n",
    "width, height = img.shape\n",
    "diag_len = int(round(math.sqrt(width * width + height * height)))\n",
    "rhos = np.linspace(-diag_len, diag_len, diag_len * 2)\n",
    "\n",
    "# Mettre en cache certaines valeurs réutilisables\n",
    "cos_t = np.cos(thetas)\n",
    "sin_t = np.sin(thetas)\n",
    "num_thetas = len(thetas)\n",
    "# Calcul du tableau d'accumulateurs de Heta vs RHO\n",
    "accumulator = np.zeros((2 * diag_len, num_thetas), dtype=np.uint8)\n",
    "# (row, col) indexe ----> arrêts\n",
    "are_edges = img > value_threshold if lines_are_white else img < value_threshold\n",
    "y_idxs, x_idxs = np.nonzero(are_edges)\n",
    "\n",
    "# Vote \n",
    "for i in range(len(x_idxs)):\n",
    "    x = x_idxs[i]\n",
    "    y = y_idxs[i]\n",
    "\n",
    "    for t_idx in range(num_thetas):\n",
    "        # Calculate rho. diag_len is added for a positive index\n",
    "        rho = diag_len + int(round(x * cos_t[t_idx] + y * sin_t[t_idx]))\n",
    "        accumulator[rho, t_idx] += 1\n",
    "        \n",
    "\n"
   ]
  }
 ],
 "metadata": {
  "kernelspec": {
   "display_name": "Python 3",
   "language": "python",
   "name": "python3"
  },
  "language_info": {
   "codemirror_mode": {
    "name": "ipython",
    "version": 3
   },
   "file_extension": ".py",
   "mimetype": "text/x-python",
   "name": "python",
   "nbconvert_exporter": "python",
   "pygments_lexer": "ipython3",
   "version": "3.7.3"
  }
 },
 "nbformat": 4,
 "nbformat_minor": 2
}
